{
 "cells": [
  {
   "cell_type": "markdown",
   "metadata": {},
   "source": [
    "# Import Necessary libraries"
   ]
  },
  {
   "cell_type": "code",
   "execution_count": 1,
   "metadata": {},
   "outputs": [],
   "source": [
    "#import the necessary libraries to perform the operation\n",
    "import pandas as pd\n",
    "import numpy as np\n",
    "import seaborn as sns\n",
    "import matplotlib.pyplot as plt\n",
    "%matplotlib inline"
   ]
  },
  {
   "cell_type": "markdown",
   "metadata": {},
   "source": [
    "Read the data set"
   ]
  },
  {
   "cell_type": "code",
   "execution_count": 25,
   "metadata": {},
   "outputs": [],
   "source": [
    "#Read the dataset from csv file\n",
    "df = pd.read_csv('Around_World.csv', sep = ',')"
   ]
  },
  {
   "cell_type": "code",
   "execution_count": 31,
   "metadata": {},
   "outputs": [
    {
     "data": {
      "text/html": [
       "<div>\n",
       "<style scoped>\n",
       "    .dataframe tbody tr th:only-of-type {\n",
       "        vertical-align: middle;\n",
       "    }\n",
       "\n",
       "    .dataframe tbody tr th {\n",
       "        vertical-align: top;\n",
       "    }\n",
       "\n",
       "    .dataframe thead th {\n",
       "        text-align: right;\n",
       "    }\n",
       "</style>\n",
       "<table border=\"1\" class=\"dataframe\">\n",
       "  <thead>\n",
       "    <tr style=\"text-align: right;\">\n",
       "      <th>3</th>\n",
       "      <th>Country Name</th>\n",
       "      <th>Country Code</th>\n",
       "      <th>Indicator Name</th>\n",
       "      <th>Indicator Code</th>\n",
       "      <th>1960.0</th>\n",
       "      <th>1961.0</th>\n",
       "      <th>1962.0</th>\n",
       "      <th>1963.0</th>\n",
       "      <th>1964.0</th>\n",
       "      <th>1965.0</th>\n",
       "      <th>...</th>\n",
       "      <th>2010.0</th>\n",
       "      <th>2011.0</th>\n",
       "      <th>2012.0</th>\n",
       "      <th>2013.0</th>\n",
       "      <th>2014.0</th>\n",
       "      <th>2015.0</th>\n",
       "      <th>2016.0</th>\n",
       "      <th>2017.0</th>\n",
       "      <th>2018.0</th>\n",
       "      <th>2019.0</th>\n",
       "    </tr>\n",
       "  </thead>\n",
       "  <tbody>\n",
       "    <tr>\n",
       "      <th>4</th>\n",
       "      <td>Aruba</td>\n",
       "      <td>ABW</td>\n",
       "      <td>Life expectancy at birth, total (years)</td>\n",
       "      <td>SP.DYN.LE00.IN</td>\n",
       "      <td>65.662</td>\n",
       "      <td>66.074</td>\n",
       "      <td>66.444</td>\n",
       "      <td>66.787</td>\n",
       "      <td>67.113</td>\n",
       "      <td>67.435</td>\n",
       "      <td>...</td>\n",
       "      <td>75.017</td>\n",
       "      <td>75.158</td>\n",
       "      <td>75.299</td>\n",
       "      <td>75.441</td>\n",
       "      <td>75.583</td>\n",
       "      <td>75.725</td>\n",
       "      <td>75.868</td>\n",
       "      <td>76.010</td>\n",
       "      <td>76.152</td>\n",
       "      <td>NaN</td>\n",
       "    </tr>\n",
       "    <tr>\n",
       "      <th>5</th>\n",
       "      <td>Afghanistan</td>\n",
       "      <td>AFG</td>\n",
       "      <td>Life expectancy at birth, total (years)</td>\n",
       "      <td>SP.DYN.LE00.IN</td>\n",
       "      <td>32.446</td>\n",
       "      <td>32.962</td>\n",
       "      <td>33.471</td>\n",
       "      <td>33.971</td>\n",
       "      <td>34.463</td>\n",
       "      <td>34.948</td>\n",
       "      <td>...</td>\n",
       "      <td>61.028</td>\n",
       "      <td>61.553</td>\n",
       "      <td>62.054</td>\n",
       "      <td>62.525</td>\n",
       "      <td>62.966</td>\n",
       "      <td>63.377</td>\n",
       "      <td>63.763</td>\n",
       "      <td>64.130</td>\n",
       "      <td>64.486</td>\n",
       "      <td>NaN</td>\n",
       "    </tr>\n",
       "    <tr>\n",
       "      <th>6</th>\n",
       "      <td>Angola</td>\n",
       "      <td>AGO</td>\n",
       "      <td>Life expectancy at birth, total (years)</td>\n",
       "      <td>SP.DYN.LE00.IN</td>\n",
       "      <td>37.524</td>\n",
       "      <td>37.811</td>\n",
       "      <td>38.113</td>\n",
       "      <td>38.430</td>\n",
       "      <td>38.760</td>\n",
       "      <td>39.102</td>\n",
       "      <td>...</td>\n",
       "      <td>55.350</td>\n",
       "      <td>56.330</td>\n",
       "      <td>57.236</td>\n",
       "      <td>58.054</td>\n",
       "      <td>58.776</td>\n",
       "      <td>59.398</td>\n",
       "      <td>59.925</td>\n",
       "      <td>60.379</td>\n",
       "      <td>60.782</td>\n",
       "      <td>NaN</td>\n",
       "    </tr>\n",
       "    <tr>\n",
       "      <th>7</th>\n",
       "      <td>Albania</td>\n",
       "      <td>ALB</td>\n",
       "      <td>Life expectancy at birth, total (years)</td>\n",
       "      <td>SP.DYN.LE00.IN</td>\n",
       "      <td>62.283</td>\n",
       "      <td>63.301</td>\n",
       "      <td>64.190</td>\n",
       "      <td>64.914</td>\n",
       "      <td>65.463</td>\n",
       "      <td>65.850</td>\n",
       "      <td>...</td>\n",
       "      <td>76.562</td>\n",
       "      <td>76.914</td>\n",
       "      <td>77.252</td>\n",
       "      <td>77.554</td>\n",
       "      <td>77.813</td>\n",
       "      <td>78.025</td>\n",
       "      <td>78.194</td>\n",
       "      <td>78.333</td>\n",
       "      <td>78.458</td>\n",
       "      <td>NaN</td>\n",
       "    </tr>\n",
       "    <tr>\n",
       "      <th>8</th>\n",
       "      <td>Andorra</td>\n",
       "      <td>AND</td>\n",
       "      <td>Life expectancy at birth, total (years)</td>\n",
       "      <td>SP.DYN.LE00.IN</td>\n",
       "      <td>NaN</td>\n",
       "      <td>NaN</td>\n",
       "      <td>NaN</td>\n",
       "      <td>NaN</td>\n",
       "      <td>NaN</td>\n",
       "      <td>NaN</td>\n",
       "      <td>...</td>\n",
       "      <td>NaN</td>\n",
       "      <td>NaN</td>\n",
       "      <td>NaN</td>\n",
       "      <td>NaN</td>\n",
       "      <td>NaN</td>\n",
       "      <td>NaN</td>\n",
       "      <td>NaN</td>\n",
       "      <td>NaN</td>\n",
       "      <td>NaN</td>\n",
       "      <td>NaN</td>\n",
       "    </tr>\n",
       "  </tbody>\n",
       "</table>\n",
       "<p>5 rows × 64 columns</p>\n",
       "</div>"
      ],
      "text/plain": [
       "3 Country Name Country Code                           Indicator Name  \\\n",
       "4        Aruba          ABW  Life expectancy at birth, total (years)   \n",
       "5  Afghanistan          AFG  Life expectancy at birth, total (years)   \n",
       "6       Angola          AGO  Life expectancy at birth, total (years)   \n",
       "7      Albania          ALB  Life expectancy at birth, total (years)   \n",
       "8      Andorra          AND  Life expectancy at birth, total (years)   \n",
       "\n",
       "3  Indicator Code  1960.0  1961.0  1962.0  1963.0  1964.0  1965.0  ...  \\\n",
       "4  SP.DYN.LE00.IN  65.662  66.074  66.444  66.787  67.113  67.435  ...   \n",
       "5  SP.DYN.LE00.IN  32.446  32.962  33.471  33.971  34.463  34.948  ...   \n",
       "6  SP.DYN.LE00.IN  37.524  37.811  38.113  38.430  38.760  39.102  ...   \n",
       "7  SP.DYN.LE00.IN  62.283  63.301  64.190  64.914  65.463  65.850  ...   \n",
       "8  SP.DYN.LE00.IN     NaN     NaN     NaN     NaN     NaN     NaN  ...   \n",
       "\n",
       "3  2010.0  2011.0  2012.0  2013.0  2014.0  2015.0  2016.0  2017.0  2018.0  \\\n",
       "4  75.017  75.158  75.299  75.441  75.583  75.725  75.868  76.010  76.152   \n",
       "5  61.028  61.553  62.054  62.525  62.966  63.377  63.763  64.130  64.486   \n",
       "6  55.350  56.330  57.236  58.054  58.776  59.398  59.925  60.379  60.782   \n",
       "7  76.562  76.914  77.252  77.554  77.813  78.025  78.194  78.333  78.458   \n",
       "8     NaN     NaN     NaN     NaN     NaN     NaN     NaN     NaN     NaN   \n",
       "\n",
       "3  2019.0  \n",
       "4     NaN  \n",
       "5     NaN  \n",
       "6     NaN  \n",
       "7     NaN  \n",
       "8     NaN  \n",
       "\n",
       "[5 rows x 64 columns]"
      ]
     },
     "execution_count": 31,
     "metadata": {},
     "output_type": "execute_result"
    }
   ],
   "source": [
    "#Show the first five rows of the dataset\n",
    "df.head()"
   ]
  },
  {
   "cell_type": "code",
   "execution_count": 30,
   "metadata": {},
   "outputs": [],
   "source": [
    "#This code is copied from stack overflow to remove all rows before Country Name which are not useful\n",
    "new_header = df.iloc[0] #grab the first row for the header\n",
    "df = df[1:] #take the data less the header row\n",
    "df.columns = new_header #set the header row as the df header\n",
    "\n"
   ]
  },
  {
   "cell_type": "markdown",
   "metadata": {},
   "source": [
    "# Missing Data\n",
    "We will use some techniques to find missing data and clean them"
   ]
  },
  {
   "cell_type": "code",
   "execution_count": 32,
   "metadata": {},
   "outputs": [
    {
     "data": {
      "text/plain": [
       "3\n",
       "Country Name        0\n",
       "Country Code        0\n",
       "Indicator Name      0\n",
       "Indicator Code      0\n",
       "1960.0             29\n",
       "                 ... \n",
       "2015.0             17\n",
       "2016.0             17\n",
       "2017.0             19\n",
       "2018.0             20\n",
       "2019.0            264\n",
       "Length: 64, dtype: int64"
      ]
     },
     "execution_count": 32,
     "metadata": {},
     "output_type": "execute_result"
    }
   ],
   "source": [
    "#Calculate how much the sum of all the missing values in each columns of the data set\n",
    "\n",
    "df.isnull().sum()"
   ]
  },
  {
   "cell_type": "code",
   "execution_count": 33,
   "metadata": {},
   "outputs": [],
   "source": [
    "#As we can see in 2019, the whole columns is filled with NaN values, so we can drop it\n",
    "df.drop(2019, axis = 1, inplace = True)"
   ]
  },
  {
   "cell_type": "code",
   "execution_count": 34,
   "metadata": {},
   "outputs": [
    {
     "data": {
      "text/html": [
       "<div>\n",
       "<style scoped>\n",
       "    .dataframe tbody tr th:only-of-type {\n",
       "        vertical-align: middle;\n",
       "    }\n",
       "\n",
       "    .dataframe tbody tr th {\n",
       "        vertical-align: top;\n",
       "    }\n",
       "\n",
       "    .dataframe thead th {\n",
       "        text-align: right;\n",
       "    }\n",
       "</style>\n",
       "<table border=\"1\" class=\"dataframe\">\n",
       "  <thead>\n",
       "    <tr style=\"text-align: right;\">\n",
       "      <th>3</th>\n",
       "      <th>Country Name</th>\n",
       "      <th>Country Code</th>\n",
       "      <th>Indicator Name</th>\n",
       "      <th>Indicator Code</th>\n",
       "      <th>1960.0</th>\n",
       "      <th>1961.0</th>\n",
       "      <th>1962.0</th>\n",
       "      <th>1963.0</th>\n",
       "      <th>1964.0</th>\n",
       "      <th>1965.0</th>\n",
       "      <th>...</th>\n",
       "      <th>2009.0</th>\n",
       "      <th>2010.0</th>\n",
       "      <th>2011.0</th>\n",
       "      <th>2012.0</th>\n",
       "      <th>2013.0</th>\n",
       "      <th>2014.0</th>\n",
       "      <th>2015.0</th>\n",
       "      <th>2016.0</th>\n",
       "      <th>2017.0</th>\n",
       "      <th>2018.0</th>\n",
       "    </tr>\n",
       "  </thead>\n",
       "  <tbody>\n",
       "    <tr>\n",
       "      <th>4</th>\n",
       "      <td>Aruba</td>\n",
       "      <td>ABW</td>\n",
       "      <td>Life expectancy at birth, total (years)</td>\n",
       "      <td>SP.DYN.LE00.IN</td>\n",
       "      <td>65.662</td>\n",
       "      <td>66.074</td>\n",
       "      <td>66.444</td>\n",
       "      <td>66.787</td>\n",
       "      <td>67.113</td>\n",
       "      <td>67.435</td>\n",
       "      <td>...</td>\n",
       "      <td>74.872</td>\n",
       "      <td>75.017</td>\n",
       "      <td>75.158</td>\n",
       "      <td>75.299</td>\n",
       "      <td>75.441</td>\n",
       "      <td>75.583</td>\n",
       "      <td>75.725</td>\n",
       "      <td>75.868</td>\n",
       "      <td>76.010</td>\n",
       "      <td>76.152</td>\n",
       "    </tr>\n",
       "    <tr>\n",
       "      <th>5</th>\n",
       "      <td>Afghanistan</td>\n",
       "      <td>AFG</td>\n",
       "      <td>Life expectancy at birth, total (years)</td>\n",
       "      <td>SP.DYN.LE00.IN</td>\n",
       "      <td>32.446</td>\n",
       "      <td>32.962</td>\n",
       "      <td>33.471</td>\n",
       "      <td>33.971</td>\n",
       "      <td>34.463</td>\n",
       "      <td>34.948</td>\n",
       "      <td>...</td>\n",
       "      <td>60.484</td>\n",
       "      <td>61.028</td>\n",
       "      <td>61.553</td>\n",
       "      <td>62.054</td>\n",
       "      <td>62.525</td>\n",
       "      <td>62.966</td>\n",
       "      <td>63.377</td>\n",
       "      <td>63.763</td>\n",
       "      <td>64.130</td>\n",
       "      <td>64.486</td>\n",
       "    </tr>\n",
       "    <tr>\n",
       "      <th>6</th>\n",
       "      <td>Angola</td>\n",
       "      <td>AGO</td>\n",
       "      <td>Life expectancy at birth, total (years)</td>\n",
       "      <td>SP.DYN.LE00.IN</td>\n",
       "      <td>37.524</td>\n",
       "      <td>37.811</td>\n",
       "      <td>38.113</td>\n",
       "      <td>38.430</td>\n",
       "      <td>38.760</td>\n",
       "      <td>39.102</td>\n",
       "      <td>...</td>\n",
       "      <td>54.311</td>\n",
       "      <td>55.350</td>\n",
       "      <td>56.330</td>\n",
       "      <td>57.236</td>\n",
       "      <td>58.054</td>\n",
       "      <td>58.776</td>\n",
       "      <td>59.398</td>\n",
       "      <td>59.925</td>\n",
       "      <td>60.379</td>\n",
       "      <td>60.782</td>\n",
       "    </tr>\n",
       "    <tr>\n",
       "      <th>7</th>\n",
       "      <td>Albania</td>\n",
       "      <td>ALB</td>\n",
       "      <td>Life expectancy at birth, total (years)</td>\n",
       "      <td>SP.DYN.LE00.IN</td>\n",
       "      <td>62.283</td>\n",
       "      <td>63.301</td>\n",
       "      <td>64.190</td>\n",
       "      <td>64.914</td>\n",
       "      <td>65.463</td>\n",
       "      <td>65.850</td>\n",
       "      <td>...</td>\n",
       "      <td>76.221</td>\n",
       "      <td>76.562</td>\n",
       "      <td>76.914</td>\n",
       "      <td>77.252</td>\n",
       "      <td>77.554</td>\n",
       "      <td>77.813</td>\n",
       "      <td>78.025</td>\n",
       "      <td>78.194</td>\n",
       "      <td>78.333</td>\n",
       "      <td>78.458</td>\n",
       "    </tr>\n",
       "    <tr>\n",
       "      <th>8</th>\n",
       "      <td>Andorra</td>\n",
       "      <td>AND</td>\n",
       "      <td>Life expectancy at birth, total (years)</td>\n",
       "      <td>SP.DYN.LE00.IN</td>\n",
       "      <td>NaN</td>\n",
       "      <td>NaN</td>\n",
       "      <td>NaN</td>\n",
       "      <td>NaN</td>\n",
       "      <td>NaN</td>\n",
       "      <td>NaN</td>\n",
       "      <td>...</td>\n",
       "      <td>NaN</td>\n",
       "      <td>NaN</td>\n",
       "      <td>NaN</td>\n",
       "      <td>NaN</td>\n",
       "      <td>NaN</td>\n",
       "      <td>NaN</td>\n",
       "      <td>NaN</td>\n",
       "      <td>NaN</td>\n",
       "      <td>NaN</td>\n",
       "      <td>NaN</td>\n",
       "    </tr>\n",
       "  </tbody>\n",
       "</table>\n",
       "<p>5 rows × 63 columns</p>\n",
       "</div>"
      ],
      "text/plain": [
       "3 Country Name Country Code                           Indicator Name  \\\n",
       "4        Aruba          ABW  Life expectancy at birth, total (years)   \n",
       "5  Afghanistan          AFG  Life expectancy at birth, total (years)   \n",
       "6       Angola          AGO  Life expectancy at birth, total (years)   \n",
       "7      Albania          ALB  Life expectancy at birth, total (years)   \n",
       "8      Andorra          AND  Life expectancy at birth, total (years)   \n",
       "\n",
       "3  Indicator Code  1960.0  1961.0  1962.0  1963.0  1964.0  1965.0  ...  \\\n",
       "4  SP.DYN.LE00.IN  65.662  66.074  66.444  66.787  67.113  67.435  ...   \n",
       "5  SP.DYN.LE00.IN  32.446  32.962  33.471  33.971  34.463  34.948  ...   \n",
       "6  SP.DYN.LE00.IN  37.524  37.811  38.113  38.430  38.760  39.102  ...   \n",
       "7  SP.DYN.LE00.IN  62.283  63.301  64.190  64.914  65.463  65.850  ...   \n",
       "8  SP.DYN.LE00.IN     NaN     NaN     NaN     NaN     NaN     NaN  ...   \n",
       "\n",
       "3  2009.0  2010.0  2011.0  2012.0  2013.0  2014.0  2015.0  2016.0  2017.0  \\\n",
       "4  74.872  75.017  75.158  75.299  75.441  75.583  75.725  75.868  76.010   \n",
       "5  60.484  61.028  61.553  62.054  62.525  62.966  63.377  63.763  64.130   \n",
       "6  54.311  55.350  56.330  57.236  58.054  58.776  59.398  59.925  60.379   \n",
       "7  76.221  76.562  76.914  77.252  77.554  77.813  78.025  78.194  78.333   \n",
       "8     NaN     NaN     NaN     NaN     NaN     NaN     NaN     NaN     NaN   \n",
       "\n",
       "3  2018.0  \n",
       "4  76.152  \n",
       "5  64.486  \n",
       "6  60.782  \n",
       "7  78.458  \n",
       "8     NaN  \n",
       "\n",
       "[5 rows x 63 columns]"
      ]
     },
     "execution_count": 34,
     "metadata": {},
     "output_type": "execute_result"
    }
   ],
   "source": [
    "df.head()"
   ]
  },
  {
   "cell_type": "code",
   "execution_count": 35,
   "metadata": {},
   "outputs": [
    {
     "data": {
      "text/plain": [
       "<matplotlib.axes._subplots.AxesSubplot at 0x156caf5cd08>"
      ]
     },
     "execution_count": 35,
     "metadata": {},
     "output_type": "execute_result"
    },
    {
     "data": {
      "image/png": "[encoded data removed]",
      "text/plain": [
       "<Figure size 432x288 with 1 Axes>"
      ]
     },
     "metadata": {
      "needs_background": "light"
     },
     "output_type": "display_data"
    }
   ],
   "source": [
    "sns.heatmap(df.isnull(), yticklabels = False, cbar = False, cmap = 'viridis')"
   ]
  },
  {
   "cell_type": "code",
   "execution_count": 36,
   "metadata": {},
   "outputs": [],
   "source": [
    "#drop the rows if any of them contains the missing values\n",
    "df.dropna(axis = 0, how = 'any', inplace = True)"
   ]
  },
  {
   "cell_type": "code",
   "execution_count": 37,
   "metadata": {},
   "outputs": [
    {
     "data": {
      "text/plain": [
       "3\n",
       "Country Name      0\n",
       "Country Code      0\n",
       "Indicator Name    0\n",
       "Indicator Code    0\n",
       "1960.0            0\n",
       "                 ..\n",
       "2014.0            0\n",
       "2015.0            0\n",
       "2016.0            0\n",
       "2017.0            0\n",
       "2018.0            0\n",
       "Length: 63, dtype: int64"
      ]
     },
     "execution_count": 37,
     "metadata": {},
     "output_type": "execute_result"
    }
   ],
   "source": [
    "#Now we find that no row contains the missing value\n",
    "df.isnull().sum()"
   ]
  },
  {
   "cell_type": "code",
   "execution_count": 38,
   "metadata": {},
   "outputs": [
    {
     "data": {
      "text/html": [
       "<div>\n",
       "<style scoped>\n",
       "    .dataframe tbody tr th:only-of-type {\n",
       "        vertical-align: middle;\n",
       "    }\n",
       "\n",
       "    .dataframe tbody tr th {\n",
       "        vertical-align: top;\n",
       "    }\n",
       "\n",
       "    .dataframe thead th {\n",
       "        text-align: right;\n",
       "    }\n",
       "</style>\n",
       "<table border=\"1\" class=\"dataframe\">\n",
       "  <thead>\n",
       "    <tr style=\"text-align: right;\">\n",
       "      <th>3</th>\n",
       "      <th>Country Name</th>\n",
       "      <th>Country Code</th>\n",
       "      <th>Indicator Name</th>\n",
       "      <th>Indicator Code</th>\n",
       "      <th>1960.0</th>\n",
       "      <th>1961.0</th>\n",
       "      <th>1962.0</th>\n",
       "      <th>1963.0</th>\n",
       "      <th>1964.0</th>\n",
       "      <th>1965.0</th>\n",
       "      <th>...</th>\n",
       "      <th>2009.0</th>\n",
       "      <th>2010.0</th>\n",
       "      <th>2011.0</th>\n",
       "      <th>2012.0</th>\n",
       "      <th>2013.0</th>\n",
       "      <th>2014.0</th>\n",
       "      <th>2015.0</th>\n",
       "      <th>2016.0</th>\n",
       "      <th>2017.0</th>\n",
       "      <th>2018.0</th>\n",
       "    </tr>\n",
       "  </thead>\n",
       "  <tbody>\n",
       "    <tr>\n",
       "      <th>4</th>\n",
       "      <td>Aruba</td>\n",
       "      <td>ABW</td>\n",
       "      <td>Life expectancy at birth, total (years)</td>\n",
       "      <td>SP.DYN.LE00.IN</td>\n",
       "      <td>65.662000</td>\n",
       "      <td>66.074000</td>\n",
       "      <td>66.444000</td>\n",
       "      <td>66.787000</td>\n",
       "      <td>67.113000</td>\n",
       "      <td>67.435000</td>\n",
       "      <td>...</td>\n",
       "      <td>74.87200</td>\n",
       "      <td>75.017000</td>\n",
       "      <td>75.158000</td>\n",
       "      <td>75.299000</td>\n",
       "      <td>75.441000</td>\n",
       "      <td>75.583000</td>\n",
       "      <td>75.725000</td>\n",
       "      <td>75.868000</td>\n",
       "      <td>76.010000</td>\n",
       "      <td>76.152000</td>\n",
       "    </tr>\n",
       "    <tr>\n",
       "      <th>5</th>\n",
       "      <td>Afghanistan</td>\n",
       "      <td>AFG</td>\n",
       "      <td>Life expectancy at birth, total (years)</td>\n",
       "      <td>SP.DYN.LE00.IN</td>\n",
       "      <td>32.446000</td>\n",
       "      <td>32.962000</td>\n",
       "      <td>33.471000</td>\n",
       "      <td>33.971000</td>\n",
       "      <td>34.463000</td>\n",
       "      <td>34.948000</td>\n",
       "      <td>...</td>\n",
       "      <td>60.48400</td>\n",
       "      <td>61.028000</td>\n",
       "      <td>61.553000</td>\n",
       "      <td>62.054000</td>\n",
       "      <td>62.525000</td>\n",
       "      <td>62.966000</td>\n",
       "      <td>63.377000</td>\n",
       "      <td>63.763000</td>\n",
       "      <td>64.130000</td>\n",
       "      <td>64.486000</td>\n",
       "    </tr>\n",
       "    <tr>\n",
       "      <th>6</th>\n",
       "      <td>Angola</td>\n",
       "      <td>AGO</td>\n",
       "      <td>Life expectancy at birth, total (years)</td>\n",
       "      <td>SP.DYN.LE00.IN</td>\n",
       "      <td>37.524000</td>\n",
       "      <td>37.811000</td>\n",
       "      <td>38.113000</td>\n",
       "      <td>38.430000</td>\n",
       "      <td>38.760000</td>\n",
       "      <td>39.102000</td>\n",
       "      <td>...</td>\n",
       "      <td>54.31100</td>\n",
       "      <td>55.350000</td>\n",
       "      <td>56.330000</td>\n",
       "      <td>57.236000</td>\n",
       "      <td>58.054000</td>\n",
       "      <td>58.776000</td>\n",
       "      <td>59.398000</td>\n",
       "      <td>59.925000</td>\n",
       "      <td>60.379000</td>\n",
       "      <td>60.782000</td>\n",
       "    </tr>\n",
       "    <tr>\n",
       "      <th>7</th>\n",
       "      <td>Albania</td>\n",
       "      <td>ALB</td>\n",
       "      <td>Life expectancy at birth, total (years)</td>\n",
       "      <td>SP.DYN.LE00.IN</td>\n",
       "      <td>62.283000</td>\n",
       "      <td>63.301000</td>\n",
       "      <td>64.190000</td>\n",
       "      <td>64.914000</td>\n",
       "      <td>65.463000</td>\n",
       "      <td>65.850000</td>\n",
       "      <td>...</td>\n",
       "      <td>76.22100</td>\n",
       "      <td>76.562000</td>\n",
       "      <td>76.914000</td>\n",
       "      <td>77.252000</td>\n",
       "      <td>77.554000</td>\n",
       "      <td>77.813000</td>\n",
       "      <td>78.025000</td>\n",
       "      <td>78.194000</td>\n",
       "      <td>78.333000</td>\n",
       "      <td>78.458000</td>\n",
       "    </tr>\n",
       "    <tr>\n",
       "      <th>9</th>\n",
       "      <td>Arab World</td>\n",
       "      <td>ARB</td>\n",
       "      <td>Life expectancy at birth, total (years)</td>\n",
       "      <td>SP.DYN.LE00.IN</td>\n",
       "      <td>46.546909</td>\n",
       "      <td>47.141621</td>\n",
       "      <td>47.731783</td>\n",
       "      <td>48.320432</td>\n",
       "      <td>48.910019</td>\n",
       "      <td>49.496478</td>\n",
       "      <td>...</td>\n",
       "      <td>70.15756</td>\n",
       "      <td>70.349916</td>\n",
       "      <td>70.528775</td>\n",
       "      <td>70.703827</td>\n",
       "      <td>70.882254</td>\n",
       "      <td>71.064292</td>\n",
       "      <td>71.249571</td>\n",
       "      <td>71.436497</td>\n",
       "      <td>71.622526</td>\n",
       "      <td>71.806825</td>\n",
       "    </tr>\n",
       "  </tbody>\n",
       "</table>\n",
       "<p>5 rows × 63 columns</p>\n",
       "</div>"
      ],
      "text/plain": [
       "3 Country Name Country Code                           Indicator Name  \\\n",
       "4        Aruba          ABW  Life expectancy at birth, total (years)   \n",
       "5  Afghanistan          AFG  Life expectancy at birth, total (years)   \n",
       "6       Angola          AGO  Life expectancy at birth, total (years)   \n",
       "7      Albania          ALB  Life expectancy at birth, total (years)   \n",
       "9   Arab World          ARB  Life expectancy at birth, total (years)   \n",
       "\n",
       "3  Indicator Code     1960.0     1961.0     1962.0     1963.0     1964.0  \\\n",
       "4  SP.DYN.LE00.IN  65.662000  66.074000  66.444000  66.787000  67.113000   \n",
       "5  SP.DYN.LE00.IN  32.446000  32.962000  33.471000  33.971000  34.463000   \n",
       "6  SP.DYN.LE00.IN  37.524000  37.811000  38.113000  38.430000  38.760000   \n",
       "7  SP.DYN.LE00.IN  62.283000  63.301000  64.190000  64.914000  65.463000   \n",
       "9  SP.DYN.LE00.IN  46.546909  47.141621  47.731783  48.320432  48.910019   \n",
       "\n",
       "3     1965.0  ...    2009.0     2010.0     2011.0     2012.0     2013.0  \\\n",
       "4  67.435000  ...  74.87200  75.017000  75.158000  75.299000  75.441000   \n",
       "5  34.948000  ...  60.48400  61.028000  61.553000  62.054000  62.525000   \n",
       "6  39.102000  ...  54.31100  55.350000  56.330000  57.236000  58.054000   \n",
       "7  65.850000  ...  76.22100  76.562000  76.914000  77.252000  77.554000   \n",
       "9  49.496478  ...  70.15756  70.349916  70.528775  70.703827  70.882254   \n",
       "\n",
       "3     2014.0     2015.0     2016.0     2017.0     2018.0  \n",
       "4  75.583000  75.725000  75.868000  76.010000  76.152000  \n",
       "5  62.966000  63.377000  63.763000  64.130000  64.486000  \n",
       "6  58.776000  59.398000  59.925000  60.379000  60.782000  \n",
       "7  77.813000  78.025000  78.194000  78.333000  78.458000  \n",
       "9  71.064292  71.249571  71.436497  71.622526  71.806825  \n",
       "\n",
       "[5 rows x 63 columns]"
      ]
     },
     "execution_count": 38,
     "metadata": {},
     "output_type": "execute_result"
    }
   ],
   "source": [
    "df.head()"
   ]
  },
  {
   "cell_type": "code",
   "execution_count": 39,
   "metadata": {},
   "outputs": [
    {
     "data": {
      "text/plain": [
       "<matplotlib.axes._subplots.AxesSubplot at 0x156caf5f988>"
      ]
     },
     "execution_count": 39,
     "metadata": {},
     "output_type": "execute_result"
    },
    {
     "data": {
      "image/png": "[encoded data removed]",
      "text/plain": [
       "<Figure size 432x288 with 1 Axes>"
      ]
     },
     "metadata": {
      "needs_background": "light"
     },
     "output_type": "display_data"
    }
   ],
   "source": [
    "#Again check with heatmap\n",
    "sns.heatmap(df.isnull(), yticklabels = False, cbar = False, cmap = 'viridis')"
   ]
  },
  {
   "cell_type": "code",
   "execution_count": 52,
   "metadata": {},
   "outputs": [],
   "source": [
    "#let's create a scatter plot to check between Country Name and the Year 2018\n",
    "x = df['Country Name']\n",
    "y = df[2018.0]"
   ]
  },
  {
   "cell_type": "code",
   "execution_count": 57,
   "metadata": {},
   "outputs": [
    {
     "data": {
      "text/plain": [
       "(0, 86.54734881275176)"
      ]
     },
     "execution_count": 57,
     "metadata": {},
     "output_type": "execute_result"
    },
    {
     "data": {
      "image/png": "[encoded data removed]",
      "text/plain": [
       "<Figure size 1296x648 with 1 Axes>"
      ]
     },
     "metadata": {
      "needs_background": "light"
     },
     "output_type": "display_data"
    }
   ],
   "source": [
    "plt.figure(figsize = (18,9))\n",
    "plt.scatter(x,y)\n",
    "plt.ylim(0, )"
   ]
  },
  {
   "cell_type": "code",
   "execution_count": 64,
   "metadata": {},
   "outputs": [
    {
     "data": {
      "text/plain": [
       "<matplotlib.axes._subplots.AxesSubplot at 0x156e1485dc8>"
      ]
     },
     "execution_count": 64,
     "metadata": {},
     "output_type": "execute_result"
    },
    {
     "data": {
      "image/png": "[encoded data removed]",
      "text/plain": [
       "<Figure size 1296x648 with 1 Axes>"
      ]
     },
     "metadata": {
      "needs_background": "light"
     },
     "output_type": "display_data"
    }
   ],
   "source": [
    "#Lets plot our data set in the form of bars\n",
    "plt.figure(figsize = (18,9))\n",
    "dataframe = df.mean()\n",
    "dataframe.plot(kind = 'bar')"
   ]
  },
  {
   "cell_type": "code",
   "execution_count": null,
   "metadata": {},
   "outputs": [],
   "source": []
  },
  {
   "cell_type": "code",
   "execution_count": null,
   "metadata": {},
   "outputs": [],
   "source": []
  }
 ],
 "metadata": {
  "kernelspec": {
   "display_name": "Python 3",
   "language": "python",
   "name": "python3"
  },
  "language_info": {
   "codemirror_mode": {
    "name": "ipython",
    "version": 3
   },
   "file_extension": ".py",
   "mimetype": "text/x-python",
   "name": "python",
   "nbconvert_exporter": "python",
   "pygments_lexer": "ipython3",
   "version": "3.7.6"
  }
 },
 "nbformat": 4,
 "nbformat_minor": 4
}
